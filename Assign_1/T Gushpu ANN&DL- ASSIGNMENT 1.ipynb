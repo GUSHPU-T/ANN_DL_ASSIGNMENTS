{
 "cells": [
  {
   "cell_type": "code",
   "execution_count": 5,
   "id": "594664f7",
   "metadata": {},
   "outputs": [],
   "source": [
    "import numpy as np\n",
    "import pandas as pd"
   ]
  },
  {
   "cell_type": "code",
   "execution_count": 6,
   "id": "eab1f928",
   "metadata": {},
   "outputs": [],
   "source": [
    "data={'Mail':['Mail 1','Mail 2','Mail 3','Mail 4'],\n",
    "    'Dear':['1','1','0','1'],\n",
    "    'Dinner':['2','0','3','0'],\n",
    "    'Money':['1','4','0','2']}"
   ]
  },
  {
   "cell_type": "code",
   "execution_count": 7,
   "id": "5694854d",
   "metadata": {},
   "outputs": [],
   "source": [
    "df=pd.DataFrame(data)"
   ]
  },
  {
   "cell_type": "code",
   "execution_count": 8,
   "id": "97fb0a61",
   "metadata": {},
   "outputs": [
    {
     "data": {
      "text/html": [
       "<div>\n",
       "<style scoped>\n",
       "    .dataframe tbody tr th:only-of-type {\n",
       "        vertical-align: middle;\n",
       "    }\n",
       "\n",
       "    .dataframe tbody tr th {\n",
       "        vertical-align: top;\n",
       "    }\n",
       "\n",
       "    .dataframe thead th {\n",
       "        text-align: right;\n",
       "    }\n",
       "</style>\n",
       "<table border=\"1\" class=\"dataframe\">\n",
       "  <thead>\n",
       "    <tr style=\"text-align: right;\">\n",
       "      <th></th>\n",
       "      <th>Mail</th>\n",
       "      <th>Dear</th>\n",
       "      <th>Dinner</th>\n",
       "      <th>Money</th>\n",
       "    </tr>\n",
       "  </thead>\n",
       "  <tbody>\n",
       "    <tr>\n",
       "      <th>0</th>\n",
       "      <td>Mail 1</td>\n",
       "      <td>1</td>\n",
       "      <td>2</td>\n",
       "      <td>1</td>\n",
       "    </tr>\n",
       "    <tr>\n",
       "      <th>1</th>\n",
       "      <td>Mail 2</td>\n",
       "      <td>1</td>\n",
       "      <td>0</td>\n",
       "      <td>4</td>\n",
       "    </tr>\n",
       "    <tr>\n",
       "      <th>2</th>\n",
       "      <td>Mail 3</td>\n",
       "      <td>0</td>\n",
       "      <td>3</td>\n",
       "      <td>0</td>\n",
       "    </tr>\n",
       "    <tr>\n",
       "      <th>3</th>\n",
       "      <td>Mail 4</td>\n",
       "      <td>1</td>\n",
       "      <td>0</td>\n",
       "      <td>2</td>\n",
       "    </tr>\n",
       "  </tbody>\n",
       "</table>\n",
       "</div>"
      ],
      "text/plain": [
       "     Mail Dear Dinner Money\n",
       "0  Mail 1    1      2     1\n",
       "1  Mail 2    1      0     4\n",
       "2  Mail 3    0      3     0\n",
       "3  Mail 4    1      0     2"
      ]
     },
     "execution_count": 8,
     "metadata": {},
     "output_type": "execute_result"
    }
   ],
   "source": [
    "df"
   ]
  },
  {
   "cell_type": "markdown",
   "id": "af41c6d2",
   "metadata": {},
   "source": [
    "Data is about frequency(cell) of words(columns) present in a mail(row)."
   ]
  },
  {
   "cell_type": "markdown",
   "id": "2c36a1f6",
   "metadata": {},
   "source": [
    "# PROBLEM STATEMENT: \n",
    "\n",
    "- Need to classify the mail as spam or not-- If the output value for an email is greater than 0.5, then we would classify it as spam, and if it's less than 0.5, we would classify it as not spam.\n",
    "\n",
    "- For the given data write the forward pass through ANN using python and numpy.\n",
    "\n",
    "- Pass the data through the network, display the outputs and error.\n",
    "\n",
    "- Use proper activation functions.\n",
    "          \n",
    "- Assume weights and biases.\n"
   ]
  },
  {
   "cell_type": "markdown",
   "id": "aee25604",
   "metadata": {},
   "source": [
    "### Given architecture of the neural network"
   ]
  },
  {
   "cell_type": "code",
   "execution_count": 42,
   "id": "d336c4ff",
   "metadata": {},
   "outputs": [],
   "source": [
    "input_size = 3\n",
    "output_size = 1\n",
    "hidden_size = 4"
   ]
  },
  {
   "cell_type": "markdown",
   "id": "a54f93df",
   "metadata": {},
   "source": [
    "### Initializing weights and biases"
   ]
  },
  {
   "cell_type": "code",
   "execution_count": 87,
   "id": "6909496a",
   "metadata": {},
   "outputs": [],
   "source": [
    "weights_input_hidden = np.random.normal(0.0, input_size ** -0.5, (input_size, hidden_size))\n",
    "bias_hidden = np.zeros((1, hidden_size))\n",
    "weights_hidden_output = np.random.normal(0.0, hidden_size ** -0.5, (hidden_size, output_size))\n",
    "bias_output = np.zeros((1, output_size))"
   ]
  },
  {
   "cell_type": "code",
   "execution_count": null,
   "id": "19c434cc",
   "metadata": {},
   "outputs": [],
   "source": [
    "inputs = np.array([[1, 2, 1],\n",
    "                   [1, 0, 4],\n",
    "                   [0, 3, 0],\n",
    "                   [1, 0, 2]])"
   ]
  },
  {
   "cell_type": "code",
   "execution_count": null,
   "id": "bbee3468",
   "metadata": {},
   "outputs": [],
   "source": [
    "expected_output = np.array([[0],\n",
    "                            [1],\n",
    "                            [0],\n",
    "                            [1]])"
   ]
  },
  {
   "cell_type": "markdown",
   "id": "171875f7",
   "metadata": {},
   "source": [
    "Where 0 - Not Spam and 1 - Spam"
   ]
  },
  {
   "cell_type": "markdown",
   "id": "76580724",
   "metadata": {},
   "source": [
    "### Sigmoid activation function is used"
   ]
  },
  {
   "cell_type": "code",
   "execution_count": 77,
   "id": "5dcea55e",
   "metadata": {},
   "outputs": [],
   "source": [
    "def sigmoid(inputs):\n",
    "    output = 1/(1+np.exp(-np.array(inputs)))\n",
    "    return output"
   ]
  },
  {
   "cell_type": "code",
   "execution_count": 95,
   "id": "ece420f3",
   "metadata": {},
   "outputs": [
    {
     "name": "stdout",
     "output_type": "stream",
     "text": [
      "[[0.97587298]\n",
      " [0.99183743]\n",
      " [0.93086158]\n",
      " [0.97811873]]\n"
     ]
    }
   ],
   "source": [
    "print(sigmoid(output))"
   ]
  },
  {
   "cell_type": "markdown",
   "id": "bb294646",
   "metadata": {},
   "source": [
    "### INFERENCE\n",
    "\n",
    "We can conclude that Mail2 has the highest probability of being spam (0.9918), followed by Mail4 (0.9781), Mail1 (0.9759), and Mail3 (0.9309). "
   ]
  },
  {
   "cell_type": "markdown",
   "id": "aebd6451",
   "metadata": {},
   "source": [
    "### Train the neural network:-\n",
    "\n",
    "-Performing forward pass through the network\n",
    "\n",
    "-To get the outputs"
   ]
  },
  {
   "cell_type": "code",
   "execution_count": 91,
   "id": "8edfa2a4",
   "metadata": {},
   "outputs": [],
   "source": [
    "hidden_layer = sigmoid(np.dot(inputs, weights_input_hidden) + bias_hidden)\n",
    "output_layer = sigmoid(np.dot(hidden_layer, weights_hidden_output) + bias_output)"
   ]
  },
  {
   "cell_type": "code",
   "execution_count": 92,
   "id": "99e167a8",
   "metadata": {},
   "outputs": [
    {
     "name": "stdout",
     "output_type": "stream",
     "text": [
      "[[0.32673222]\n",
      " [0.41110417]\n",
      " [0.29210546]\n",
      " [0.38764546]]\n"
     ]
    }
   ],
   "source": [
    "print(output_layer)"
   ]
  },
  {
   "cell_type": "markdown",
   "id": "35119cc7",
   "metadata": {},
   "source": [
    "### INFERENCE\n",
    "\n",
    "We can conclude that the output values represent the probability of each data point belonging to the positive class (spam in this case), **Mail2** has the highest probability of being spam (0.4111), followed by Mail4 (0.3876), Mail1 (0.3267), and Mail3 (0.2921). "
   ]
  },
  {
   "cell_type": "markdown",
   "id": "66ca54e3",
   "metadata": {},
   "source": [
    "### Calculating the error   "
   ]
  },
  {
   "cell_type": "code",
   "execution_count": 93,
   "id": "f8ad10b8",
   "metadata": {},
   "outputs": [],
   "source": [
    "output_error = expected_output - output_layer\n",
    "hidden_error = np.dot(output_error, weights_hidden_output.T) * hidden_layer * (1 - hidden_layer)"
   ]
  },
  {
   "cell_type": "code",
   "execution_count": 94,
   "id": "4eb61b44",
   "metadata": {},
   "outputs": [
    {
     "name": "stdout",
     "output_type": "stream",
     "text": [
      "[[-0.32673222]\n",
      " [ 0.58889583]\n",
      " [-0.29210546]\n",
      " [ 0.61235454]]\n"
     ]
    }
   ],
   "source": [
    "print(output_error)"
   ]
  },
  {
   "cell_type": "markdown",
   "id": "f925d506",
   "metadata": {},
   "source": [
    "### INFERENCE\n",
    "\n",
    "From the above values we conclude that the values are not probabilities, as they are not bounded between 0 and 1. Instead, they are the raw output of the neural network's final layer, which means that they can be positive or negative.\n",
    "\n",
    "Therefore, **Mail2** is **0.58889583** and **Mail4** is **0.61235454** which is also greater than 0.5 that are classified as **spam** by the neural network and **Mail1** is **-0.32673222** and **Mail3** is **-0.29210546** have negative output values that is **not spam**."
   ]
  }
 ],
 "metadata": {
  "kernelspec": {
   "display_name": "Python 3 (ipykernel)",
   "language": "python",
   "name": "python3"
  },
  "language_info": {
   "codemirror_mode": {
    "name": "ipython",
    "version": 3
   },
   "file_extension": ".py",
   "mimetype": "text/x-python",
   "name": "python",
   "nbconvert_exporter": "python",
   "pygments_lexer": "ipython3",
   "version": "3.9.12"
  }
 },
 "nbformat": 4,
 "nbformat_minor": 5
}
